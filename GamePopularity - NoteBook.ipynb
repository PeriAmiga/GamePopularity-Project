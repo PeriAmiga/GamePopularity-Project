{
 "cells": [
  {
   "cell_type": "markdown",
   "id": "e6933614",
   "metadata": {},
   "source": [
    "# GamePopularity - Crawling"
   ]
  },
  {
   "cell_type": "code",
   "execution_count": null,
   "id": "6c80f9c5",
   "metadata": {},
   "outputs": [],
   "source": [
    "import pandas as pd\n",
    "import requests\n",
    "from bs4 import BeautifulSoup\n",
    "import time"
   ]
  },
  {
   "cell_type": "code",
   "execution_count": null,
   "id": "2b6bc795",
   "metadata": {},
   "outputs": [],
   "source": [
    "#Create DataFrame\n",
    "df = pd.DataFrame(columns = ['Name', 'Release Date', 'Online', 'Genre', 'Price','Trading Cards', 'Positive Reviews', 'Negative Reviews', 'Ratio Positive Reviews', 'Status Review', 'Minimum Age'])\n",
    "df"
   ]
  },
  {
   "cell_type": "code",
   "execution_count": null,
   "id": "96c50918",
   "metadata": {},
   "outputs": [],
   "source": [
    "#Save Steam URL for appending to games pages\n",
    "steam_url = \"https://store.steampowered.com/search/?category1=998\"\n",
    "steam_response = requests.get(steam_url)\n",
    "while (steam_response.status_code != 200):\n",
    "    steam_response = requests.get(steam_url)\n",
    "    time.sleep(1)"
   ]
  },
  {
   "cell_type": "code",
   "execution_count": null,
   "id": "c84c7f29",
   "metadata": {},
   "outputs": [],
   "source": [
    "#Steam Web Content\n",
    "steam_web = BeautifulSoup(steam_response.content, \"html.parser\")\n",
    "print(steam_web.prettify())"
   ]
  },
  {
   "cell_type": "code",
   "execution_count": null,
   "id": "195b32a3",
   "metadata": {
    "scrolled": false
   },
   "outputs": [],
   "source": [
    "#Searching Sum of Pages\n",
    "page1 = \"https://store.steampowered.com/search/?category1=998&page=1\"\n",
    "page1_response = requests.get(page1)\n",
    "while (page1_response.status_code != 200):\n",
    "    page1_response = requests.get(page1)\n",
    "    time.sleep(0.1)\n",
    "page1_web = BeautifulSoup(page1_response.content, \"html.parser\")\n",
    "pages = page1_web.find_all(\"div\", {\"class\": \"search_pagination_left\"})\n",
    "for page in pages:\n",
    "    text_page = str(page.get_text())\n",
    "numofgames = text_page.find(\"of\") + 3\n",
    "sumofgames = int(text_page[numofgames:])\n",
    "sumofpages = int(sumofgames / 25) + 1"
   ]
  },
  {
   "cell_type": "code",
   "execution_count": null,
   "id": "58973e7c",
   "metadata": {},
   "outputs": [],
   "source": [
    "#Find all the Pages URL'S\n",
    "steam_pages = []\n",
    "for page in range(0,sumofpages):\n",
    "    steam_pages.append(steam_url +\"&page=\" + str(page+1))"
   ]
  },
  {
   "cell_type": "code",
   "execution_count": null,
   "id": "1493b86a",
   "metadata": {
    "scrolled": true
   },
   "outputs": [],
   "source": [
    "#Arrays of Games URL's\n",
    "urls = []\n",
    "app_id = []\n",
    "\n",
    "i = 0\n",
    "for page in steam_pages:\n",
    "    page_response = requests.get(page)\n",
    "    while (page_response.status_code != 200):\n",
    "        page_response = requests.get(page)\n",
    "        time.sleep(0.1)\n",
    "    page_web = BeautifulSoup(page_response.content, \"html.parser\")\n",
    "     \n",
    "    games_urls = page_web.find_all('a')\n",
    "    for game in games_urls:\n",
    "        text_game = str(game)\n",
    "        if (text_game.find(\"https://store.steampowered.com/app/\") != -1):\n",
    "            index = (text_game.find(\"https://store.steampowered.com/app/\") + 35)\n",
    "            id = \"\"\n",
    "            while (text_game[index] != \"/\"):\n",
    "                id = id + \"\" +text_game[index]\n",
    "                index = index + 1\n",
    "            app_id.append(id)\n",
    "    i = i + 1\n",
    "    if(i == 10000):\n",
    "        i = 0\n",
    "        time.sleep(30)\n",
    "    else:  \n",
    "        time.sleep(0.1)\n",
    "\n",
    "\n",
    "for app in app_id:\n",
    "    urls.append(\"https://store.steampowered.com/app/\" + app)"
   ]
  },
  {
   "cell_type": "code",
   "execution_count": null,
   "id": "da8a4d11",
   "metadata": {},
   "outputs": [],
   "source": [
    "#Export all the URLS for csv\n",
    "df2 = pd.DataFrame(columns = ['Game URL'])\n",
    "size = len(urls)\n",
    "for game in range(0,size):\n",
    "    df2.loc[game+1] = [urls[game]]\n",
    "df2"
   ]
  },
  {
   "cell_type": "code",
   "execution_count": null,
   "id": "5ff8eb7a",
   "metadata": {},
   "outputs": [],
   "source": [
    "df2.to_csv(\"GamesUrls.csv\")"
   ]
  },
  {
   "cell_type": "code",
   "execution_count": null,
   "id": "500e0306",
   "metadata": {},
   "outputs": [],
   "source": [
    "#Load all the URLS and Save the Data 0 - 9,999 Games\n",
    "save_pages = []\n",
    "error_pages = []\n",
    "\n",
    "i = 0\n",
    "for url in range(0, 10000):\n",
    "    game_response = requests.get(urls[url])\n",
    "    if (game_response.status_code != 200):\n",
    "        error_pages.append(url)\n",
    "        continue\n",
    "    game_web = BeautifulSoup(game_response.content, \"html.parser\")\n",
    "    save_pages.append(game_web)\n",
    "    i = i + 1\n",
    "    if(i == 2000):\n",
    "        i = 0\n",
    "        time.sleep(3)\n",
    "time.sleep(100)"
   ]
  },
  {
   "cell_type": "code",
   "execution_count": null,
   "id": "3c14bbcb",
   "metadata": {},
   "outputs": [],
   "source": [
    "#Load all the URLS and Save the Data 10,001 - 20,000 Games\n",
    "\n",
    "i = 0\n",
    "for url in range(10000, 20001):\n",
    "    game_response = requests.get(urls[url])\n",
    "    if (game_response.status_code != 200):\n",
    "        error_pages.append(url)\n",
    "        continue\n",
    "    game_web = BeautifulSoup(game_response.content, \"html.parser\")\n",
    "    save_pages.append(game_web)\n",
    "    i = i + 1\n",
    "    if(i == 2000):\n",
    "        i = 0\n",
    "        time.sleep(3)\n",
    "time.sleep(100)"
   ]
  },
  {
   "cell_type": "code",
   "execution_count": null,
   "id": "317e7585",
   "metadata": {},
   "outputs": [],
   "source": [
    "#Load all the URLS and Save the Data 20,001 - 30,000 Games\n",
    "\n",
    "i = 0\n",
    "for url in range(20001, 30001):\n",
    "    game_response = requests.get(urls[url])\n",
    "    if (game_response.status_code != 200):\n",
    "        error_pages.append(url)\n",
    "        continue\n",
    "    game_web = BeautifulSoup(game_response.content, \"html.parser\")\n",
    "    save_pages.append(game_web)\n",
    "    i = i + 1\n",
    "    if(i == 2000):\n",
    "        i = 0\n",
    "        time.sleep(3)\n",
    "time.sleep(100)"
   ]
  },
  {
   "cell_type": "code",
   "execution_count": null,
   "id": "0a2e162d",
   "metadata": {},
   "outputs": [],
   "source": [
    "#Load all the URLS and Save the Data 30,001 - 40,000 Games\n",
    "\n",
    "i = 0\n",
    "for url in range(30001, 40001):\n",
    "    game_response = requests.get(urls[url])\n",
    "    if (game_response.status_code != 200):\n",
    "        error_pages.append(url)\n",
    "        continue\n",
    "    game_web = BeautifulSoup(game_response.content, \"html.parser\")\n",
    "    save_pages.append(game_web)\n",
    "    i = i + 1\n",
    "    if(i == 2000):\n",
    "        i = 0\n",
    "        time.sleep(3)\n",
    "time.sleep(100)"
   ]
  },
  {
   "cell_type": "code",
   "execution_count": null,
   "id": "5c0e2f07",
   "metadata": {},
   "outputs": [],
   "source": [
    "#Load all the URLS and Save the Data 40,001 - 50,000 Games\n",
    "\n",
    "i = 0\n",
    "for url in range(40001, 50001):\n",
    "    game_response = requests.get(urls[url])\n",
    "    if (game_response.status_code != 200):\n",
    "        error_pages.append(url)\n",
    "        continue\n",
    "    game_web = BeautifulSoup(game_response.content, \"html.parser\")\n",
    "    save_pages.append(game_web)\n",
    "    i = i + 1\n",
    "    if(i == 2000):\n",
    "        i = 0\n",
    "        time.sleep(3)\n",
    "time.sleep(100)"
   ]
  },
  {
   "cell_type": "code",
   "execution_count": null,
   "id": "e242d4db",
   "metadata": {},
   "outputs": [],
   "source": [
    "#Load all the URLS and Save the Data 50,001 - 60,000 Games\n",
    "\n",
    "i = 0\n",
    "for url in range(50001, 60001):\n",
    "    game_response = requests.get(urls[url])\n",
    "    if (game_response.status_code != 200):\n",
    "        error_pages.append(url)\n",
    "        continue\n",
    "    game_web = BeautifulSoup(game_response.content, \"html.parser\")\n",
    "    save_pages.append(game_web)\n",
    "    i = i + 1\n",
    "    if(i == 2000):\n",
    "        i = 0\n",
    "        time.sleep(3)\n",
    "time.sleep(100)"
   ]
  },
  {
   "cell_type": "code",
   "execution_count": null,
   "id": "c6f9dacf",
   "metadata": {},
   "outputs": [],
   "source": [
    "#Check How much Games URLS Succeded to load\n",
    "len(save_pages)"
   ]
  },
  {
   "cell_type": "code",
   "execution_count": null,
   "id": "2ffd3723",
   "metadata": {},
   "outputs": [],
   "source": [
    "#Check if all the URLS loaded\n",
    "if (len(error_pages) == 0):\n",
    "    print (\"Successed to load all the sites\")\n",
    "else:\n",
    "    print (str(len(error_pages)) + \" of the sites did not load\")"
   ]
  },
  {
   "cell_type": "code",
   "execution_count": null,
   "id": "b65143fa",
   "metadata": {},
   "outputs": [],
   "source": [
    "#Arrays of Data of Games\n",
    "Names = []\n",
    "Release_date_arr = []\n",
    "IsOnline_arr = []\n",
    "Genres_arr = []\n",
    "Price_arr = []\n",
    "IsTradingCards_arr = []\n",
    "PositiveReviews_arr = []\n",
    "NegativeReviews_arr = []\n",
    "RatioPositiveReviews_arr = []\n",
    "StatusReview_arr = []\n",
    "MinimumAge_arr = []\n",
    "\n",
    "\n",
    "for game_web in save_pages:\n",
    "    name = game_web.find(\"div\", {\"class\": \"apphub_AppName\"})\n",
    "    if(name):\n",
    "        Names.append(name.get_text())\n",
    "    else:\n",
    "        Names.append(None)\n",
    "    \n",
    "    release_date = game_web.find(\"div\", {\"class\": \"date\"})\n",
    "    if (release_date):\n",
    "        Release_date_arr.append(release_date.get_text())\n",
    "    else:\n",
    "        Release_date_arr.append(None)\n",
    "\n",
    "    local_genres = []\n",
    "    genres = game_web.find_all('a')\n",
    "    for genre in genres:\n",
    "        text_genre = str(genre)\n",
    "        if (text_genre.find(\"genre\") != -1):\n",
    "            local_genres.append(genre.get_text())\n",
    "    Genre = \"\"      \n",
    "    for genre in local_genres:\n",
    "        if (genre.find(\"Free to Play\") == -1) and (genre.find(\"Early Access\") == -1) and (genre.find(\"Massively Multiplayer\") == -1) and (genre.find(\"Games\") == -1):\n",
    "            if (Genre == \"\"):\n",
    "                Genre = genre\n",
    "            else:\n",
    "                Genre = Genre + \",\" + genre\n",
    "    Genres_arr.append(Genre)\n",
    "    \n",
    "    price = game_web.find(\"div\", {\"class\": \"game_purchase_price price\"})\n",
    "    if(price):\n",
    "        Price_arr.append(price.get_text().strip())\n",
    "    else:\n",
    "        price = game_web.find(\"div\", {\"class\": \"discount_original_price\"})\n",
    "        if (price):\n",
    "            Price_arr.append(price.get_text().strip())\n",
    "        else:\n",
    "            Price_arr.append(None)\n",
    "\n",
    "    labels_TradingCards = game_web.find_all(\"div\", {\"class\": \"label\"})\n",
    "    flag_Tradingcards = False\n",
    "    for label in labels_TradingCards:\n",
    "        if(label.get_text() == \"Steam Trading Cards\"):\n",
    "            flag_Tradingcards = True;\n",
    "            break\n",
    "    IsTradingCards_arr.append(flag_Tradingcards)\n",
    "\n",
    "    \n",
    "    labels_PositiveReview = game_web.find_all(\"label\", {\"for\": \"review_type_positive\"})\n",
    "    if (labels_PositiveReview):\n",
    "        for label in labels_PositiveReview:         \n",
    "            countPositive = \"\"\n",
    "            for letter in label.get_text():\n",
    "                if (letter.isdigit()):\n",
    "                    countPositive = countPositive + letter\n",
    "            PositiveReviews_arr.append(countPositive)\n",
    "    else:\n",
    "        countPositive = None\n",
    "        PositiveReviews_arr.append(None) \n",
    "        \n",
    "    labels_NegativeReview = game_web.find_all(\"label\", {\"for\": \"review_type_negative\"})\n",
    "    if (labels_NegativeReview):\n",
    "        for label in labels_NegativeReview:\n",
    "            countNegative = \"\"\n",
    "            for letter in label.get_text():\n",
    "                if (letter.isdigit()):\n",
    "                    countNegative = countNegative + letter\n",
    "            NegativeReviews_arr.append(countNegative)\n",
    "    else:\n",
    "        countNegative = None\n",
    "        NegativeReviews_arr.append(None)\n",
    "    \n",
    "    if (countPositive == None) or (countNegative == None):\n",
    "        PositivePercent = None\n",
    "    else:\n",
    "        PositivePercent = (int(countPositive) * 100) / (int(countPositive) + int(countNegative))\n",
    "        PositivePercent = \"{:.3f}\".format(PositivePercent)\n",
    "        \n",
    "    RatioPositiveReviews_arr.append(PositivePercent)\n",
    "    \n",
    "    StatusReview = game_web.find(\"span\", {\"class\": \"game_review_summary positive\"})\n",
    "    if(StatusReview):\n",
    "        StatusReview_arr.append(StatusReview.get_text())\n",
    "    else:\n",
    "        StatusReview = game_web.find(\"span\", {\"class\": \"game_review_summary mixed\"})\n",
    "        if (StatusReview):\n",
    "            StatusReview_arr.append(StatusReview.get_text())\n",
    "        else:\n",
    "            StatusReview = game_web.find(\"span\", {\"class\": \"game_review_summary negative\"})\n",
    "            if (StatusReview):\n",
    "                StatusReview_arr.append(StatusReview.get_text())\n",
    "            else:\n",
    "                StatusReview_arr.append(None)\n",
    "            \n",
    "    ages = game_web.find_all('img')\n",
    "    for age in ages:\n",
    "        limitAge = \"\"\n",
    "        text_age = str(age)\n",
    "        if (text_age.find(\"PEGI/\") != -1):\n",
    "            if (text_age[87] != \".\"):\n",
    "                limitAge = limitAge + text_age[86] + text_age[87]\n",
    "            else:\n",
    "                limitAge = limitAge + text_age[86]\n",
    "            break\n",
    "        else:\n",
    "            limitAge = \"No Limit\"\n",
    "    MinimumAge_arr.append(limitAge)\n",
    "    \n",
    "    \n",
    "    IsOnline = game_web.find_all(\"a\", {\"style\": \"display: none;\"})\n",
    "    flag_online = False\n",
    "    if (IsOnline):\n",
    "        for online in IsOnline:\n",
    "            if (online.get_text().find(\"Multiplayer\") != -1) or (online.get_text().find(\"Co-op\") != -1) or (online.get_text().find(\"Online Co-Op\") != -1) or (online.get_text().find(\"Massively Multiplayer\") != -1):\n",
    "                flag_online = True\n",
    "                break\n",
    "        IsOnline_arr.append(flag_online)\n",
    "    else: \n",
    "        IsOnline_arr.append(None)"
   ]
  },
  {
   "cell_type": "code",
   "execution_count": null,
   "id": "279b6e15",
   "metadata": {
    "scrolled": true
   },
   "outputs": [],
   "source": [
    "#Adding Data to the DataFrame\n",
    "size = len(Names)\n",
    "for game in range(0,size):\n",
    "    df.loc[game+1] = [Names[game], Release_date_arr[game], IsOnline_arr[game], Genres_arr[game], Price_arr[game], IsTradingCards_arr[game], PositiveReviews_arr[game], NegativeReviews_arr[game], RatioPositiveReviews_arr[game], StatusReview_arr[game], MinimumAge_arr[game]]\n",
    "df"
   ]
  },
  {
   "cell_type": "code",
   "execution_count": null,
   "id": "3875fc53",
   "metadata": {},
   "outputs": [],
   "source": [
    "df.info()"
   ]
  },
  {
   "cell_type": "code",
   "execution_count": null,
   "id": "2e28c0ba",
   "metadata": {},
   "outputs": [],
   "source": [
    "df.describe()"
   ]
  },
  {
   "cell_type": "code",
   "execution_count": null,
   "id": "e55b4310",
   "metadata": {},
   "outputs": [],
   "source": [
    "df.to_csv(\"GamePopularity.csv\")"
   ]
  },
  {
   "cell_type": "markdown",
   "id": "d5916806",
   "metadata": {},
   "source": [
    "# "
   ]
  },
  {
   "cell_type": "markdown",
   "id": "8d02314a",
   "metadata": {},
   "source": [
    "# GamePopularity - Data Cleanup"
   ]
  },
  {
   "cell_type": "code",
   "execution_count": null,
   "id": "af8838a2",
   "metadata": {},
   "outputs": [],
   "source": [
    "#load DataFrame\n",
    "df = pd.read_csv(\"GamePopularity.csv\")\n",
    "df"
   ]
  },
  {
   "cell_type": "code",
   "execution_count": null,
   "id": "d96d3072",
   "metadata": {},
   "outputs": [],
   "source": [
    "#Remove all the duplicates by Name\n",
    "print(df.duplicated().sum())\n",
    "clean_df = df.drop_duplicates(subset=['Name'])\n",
    "clean_df"
   ]
  },
  {
   "cell_type": "code",
   "execution_count": null,
   "id": "9330e970",
   "metadata": {},
   "outputs": [],
   "source": [
    "#Check if all the duplicates removed\n",
    "if ((clean_df[clean_df.duplicated(['Name'])].shape)[0] == 0):\n",
    "    print(\"All the duplicates removed successfully\")\n",
    "else:\n",
    "    print(\"Some of the duplicates did not removed\")"
   ]
  },
  {
   "cell_type": "code",
   "execution_count": null,
   "id": "d9dd6c51",
   "metadata": {},
   "outputs": [],
   "source": [
    "#Check if there is more NaN in the DataFrame\n",
    "df = clean_df\n",
    "df.isnull().sum()"
   ]
  },
  {
   "cell_type": "code",
   "execution_count": null,
   "id": "44ab8b92",
   "metadata": {},
   "outputs": [],
   "source": [
    "#Cleaning rows without data in 9 columns from 11 columns atleast\n",
    "clean_df = df.dropna(axis=0, thresh=9).copy()"
   ]
  },
  {
   "cell_type": "code",
   "execution_count": null,
   "id": "5dd6b7e8",
   "metadata": {},
   "outputs": [],
   "source": [
    "#Check if there is more NaN in the DataFrame\n",
    "df = clean_df\n",
    "df.isnull().sum()"
   ]
  },
  {
   "cell_type": "code",
   "execution_count": null,
   "id": "d24a32b7",
   "metadata": {},
   "outputs": [],
   "source": [
    "#Remove the row with NaN in column Online\n",
    "clean_df = df[df.Online.notnull()]"
   ]
  },
  {
   "cell_type": "code",
   "execution_count": null,
   "id": "8a01d705",
   "metadata": {},
   "outputs": [],
   "source": [
    "#Check if there is more NaN in the DataFrame\n",
    "df = clean_df\n",
    "df.isnull().sum()"
   ]
  },
  {
   "cell_type": "code",
   "execution_count": null,
   "id": "e225cabd",
   "metadata": {},
   "outputs": [],
   "source": [
    "#Remove the row with NaN in column Price\n",
    "clean_df = df[df.Price.notnull()]"
   ]
  },
  {
   "cell_type": "code",
   "execution_count": null,
   "id": "9e6f7153",
   "metadata": {},
   "outputs": [],
   "source": [
    "#Check if there is more NaN in the DataFrame\n",
    "df = clean_df\n",
    "df.isnull().sum()"
   ]
  },
  {
   "cell_type": "code",
   "execution_count": null,
   "id": "6f243215",
   "metadata": {},
   "outputs": [],
   "source": [
    "#Remove the row with NaN in column Genre\n",
    "df = df[df.Genre.notnull()]\n",
    "df.isnull().sum()"
   ]
  },
  {
   "cell_type": "code",
   "execution_count": null,
   "id": "cc78e595",
   "metadata": {},
   "outputs": [],
   "source": [
    "#Remove the Status Review column and Check if there is more NaN in the DataFrame\n",
    "clean_df = df.drop(columns = ['Status Review'])\n",
    "df = clean_df\n",
    "df.isnull().sum()"
   ]
  },
  {
   "cell_type": "code",
   "execution_count": null,
   "id": "90bcc4d7",
   "metadata": {},
   "outputs": [],
   "source": [
    "#Cleaning rows without data in 10 columns from 11 columns atleast\n",
    "clean_df = df.dropna(axis=0, thresh=10).copy()"
   ]
  },
  {
   "cell_type": "code",
   "execution_count": null,
   "id": "9d9ef8e1",
   "metadata": {},
   "outputs": [],
   "source": [
    "#Check if there is more NaN in the DataFrame\n",
    "df = clean_df\n",
    "print(df.isnull().sum())\n",
    "df"
   ]
  },
  {
   "cell_type": "code",
   "execution_count": null,
   "id": "892e387d",
   "metadata": {},
   "outputs": [],
   "source": [
    "#isFloat Function\n",
    "def isFloat(num):\n",
    "    try:\n",
    "        float(num)\n",
    "        return True\n",
    "    except ValueError:\n",
    "        return False"
   ]
  },
  {
   "cell_type": "code",
   "execution_count": null,
   "id": "16009e02",
   "metadata": {},
   "outputs": [],
   "source": [
    "#Remove the sign ₪ from Price Column, and changing Free to 0\n",
    "for i in range(0, len(df)):\n",
    "    if (df.iloc[i,4].find('₪') != -1):\n",
    "        df.iloc[i,4] = df.iloc[i,4].replace('₪', '')\n",
    "        df.iloc[i,4] = df.iloc[i,4].replace(',', '')\n",
    "    if (isFloat(df.iloc[i,4]) == False):\n",
    "        df.iloc[i,4] = 0\n",
    "    if(df.iloc[i,9] == \"No Limit\"):\n",
    "        df.iloc[i,9] = \"0\"\n",
    "df"
   ]
  },
  {
   "cell_type": "code",
   "execution_count": null,
   "id": "7c7d5257",
   "metadata": {},
   "outputs": [],
   "source": [
    "#Changing type of columns\n",
    "df[\"Price\"] = pd.to_numeric(df[\"Price\"])\n",
    "df = df.astype({'Positive Reviews':'int'})\n",
    "df = df.astype({'Negative Reviews':'int'})\n",
    "df = df.astype({'Minimum Age':'int'})\n",
    "df.rename(columns = {'Release Date':'ReleaseDate', 'Trading Cards':'TradingCards', 'Positive Reviews':'PositiveReviews', 'Negative Reviews':'NegativeReviews' , 'Ratio Positive Reviews':'RatioPositiveReviews', 'Minimum Age':'MinimumAge'}, inplace = True)\n",
    "df = df.reset_index()\n",
    "df = df.drop(columns = 'index')\n",
    "df"
   ]
  },
  {
   "cell_type": "code",
   "execution_count": null,
   "id": "4182d64d",
   "metadata": {},
   "outputs": [],
   "source": [
    "df.describe(include='all')"
   ]
  },
  {
   "cell_type": "code",
   "execution_count": null,
   "id": "854ece0a",
   "metadata": {},
   "outputs": [],
   "source": [
    "#Remove all the rows with reviews less then 50\n",
    "df = df.drop(df[(df.PositiveReviews + df.NegativeReviews < 50)].index)\n",
    "df = df.reset_index()\n",
    "df = df.drop(columns = 'index')\n",
    "df"
   ]
  },
  {
   "cell_type": "code",
   "execution_count": null,
   "id": "a259a8ea",
   "metadata": {},
   "outputs": [],
   "source": [
    "#Replace True and False to 0 and 1\n",
    "replace_bool = {True : 1, False : 0}\n",
    "df.replace(replace_bool, inplace = True)\n",
    "df"
   ]
  },
  {
   "cell_type": "code",
   "execution_count": null,
   "id": "9bb00881",
   "metadata": {},
   "outputs": [],
   "source": [
    "#Taking Massive Genre\n",
    "for i in range(0, len(df)):\n",
    "    if(df.iloc[i,3].find(\",\") != -1):\n",
    "        str = df.iloc[i,3]\n",
    "        str = str.split(',')\n",
    "        str = str[0]\n",
    "        df.iloc[i,3] = str\n",
    "df"
   ]
  },
  {
   "cell_type": "code",
   "execution_count": null,
   "id": "7b1a9de6",
   "metadata": {},
   "outputs": [],
   "source": [
    "df.to_csv(\"GamePopularity-Cleanup.csv\")"
   ]
  },
  {
   "cell_type": "markdown",
   "id": "2148489e",
   "metadata": {},
   "source": [
    "# "
   ]
  },
  {
   "cell_type": "markdown",
   "id": "7383b26e",
   "metadata": {},
   "source": [
    "# GamePopularity - EDA"
   ]
  },
  {
   "cell_type": "code",
   "execution_count": null,
   "id": "082a840b",
   "metadata": {},
   "outputs": [],
   "source": [
    "import pandas as pd\n",
    "import numpy as np\n",
    "import matplotlib as mpl\n",
    "from matplotlib import pyplot as plt\n",
    "from scipy.stats import chi2_contingency\n",
    "from mpl_toolkits.mplot3d import Axes3D\n",
    "import seaborn as sns\n",
    "%matplotlib inline"
   ]
  },
  {
   "cell_type": "code",
   "execution_count": null,
   "id": "841f7eef",
   "metadata": {},
   "outputs": [],
   "source": [
    "#load DataFrame\n",
    "df = pd.read_csv(\"GamePopularity-Cleanup.csv\")\n",
    "df = df.drop(columns = \"Unnamed: 0\")\n",
    "df = df[df[\"Genre\"].str.contains(\"Bundle info\") == False]\n",
    "df"
   ]
  },
  {
   "cell_type": "code",
   "execution_count": null,
   "id": "97dc31a1",
   "metadata": {},
   "outputs": [],
   "source": [
    "fig = plt.figure(figsize=(12,4))\n",
    "fig1 = fig.add_subplot(1,2,1)\n",
    "fig2 = fig.add_subplot(1,2,2)\n",
    "\n",
    "fig1.hist(df.RatioPositiveReviews, bins = 10) #Success Game got 90%+\n",
    "fig1.set_title('Ratio of Success')\n",
    "fig1.set_xlabel('RatioPositiveReviews')\n",
    "fig1.set_ylabel('Frequency')\n",
    "\n",
    "fig2.hist(df.Price, bins = 50)\n",
    "fig2.set_title('Price Frequency in ILS')\n",
    "fig2.set_xlabel('Price')\n",
    "fig2.set_ylabel('Frequency')"
   ]
  },
  {
   "cell_type": "code",
   "execution_count": null,
   "id": "f7176cd2",
   "metadata": {},
   "outputs": [],
   "source": [
    "fig3 = plt.figure(figsize=(8,8))\n",
    "df[\"Genre\"].value_counts().plot(kind='pie')\n",
    "plt.title('Number of games by Genre')"
   ]
  },
  {
   "cell_type": "code",
   "execution_count": null,
   "id": "678e5ffb",
   "metadata": {},
   "outputs": [],
   "source": [
    "ct = pd.crosstab(df['Genre'], df['TradingCards'])\n",
    "ct.plot(kind = 'bar', figsize=(8,8))\n",
    "plt.title('The Connection between Genre and TradingCards')\n",
    "plt.xlabel('Genre')\n",
    "plt.ylabel('TradingCards')"
   ]
  },
  {
   "cell_type": "code",
   "execution_count": null,
   "id": "a3ca54eb",
   "metadata": {},
   "outputs": [],
   "source": [
    "#Correlation between Limit Age & Price & RatioPositiveReviews\n",
    "df[['MinimumAge', 'Price', 'RatioPositiveReviews']].corr()"
   ]
  },
  {
   "cell_type": "code",
   "execution_count": null,
   "id": "77ad70bd",
   "metadata": {},
   "outputs": [],
   "source": [
    "#Plot the correlation matrix of MinimumAge, Price, RatioPositiveReviews in data dataframe.\n",
    "sns.heatmap(df[['MinimumAge','Price','RatioPositiveReviews']].corr(), annot=True, cmap = 'Blues')\n",
    "plt.show()"
   ]
  },
  {
   "cell_type": "code",
   "execution_count": null,
   "id": "f3741361",
   "metadata": {},
   "outputs": [],
   "source": [
    "#Check the connection between Genre and RatioPositiveReviews\n",
    "ct1 = pd.crosstab(df['Genre'], df['RatioPositiveReviews'])\n",
    "ct1"
   ]
  },
  {
   "cell_type": "code",
   "execution_count": null,
   "id": "7d2d3127",
   "metadata": {},
   "outputs": [],
   "source": [
    "#Chi Value\n",
    "chi2_contingency(ct1)"
   ]
  },
  {
   "cell_type": "code",
   "execution_count": null,
   "id": "94b79ab0",
   "metadata": {},
   "outputs": [],
   "source": [
    "#We can see that there is connection between the Genre and the RatioPositiveReviews\n",
    "#Because the P = 1 > 0.05"
   ]
  },
  {
   "cell_type": "code",
   "execution_count": null,
   "id": "52b854ea",
   "metadata": {},
   "outputs": [],
   "source": [
    "#Check the connection between Trading Cards and RatioPositiveReviews\n",
    "ct2 = pd.crosstab(df['TradingCards'], df['RatioPositiveReviews'])\n",
    "ct2"
   ]
  },
  {
   "cell_type": "code",
   "execution_count": null,
   "id": "110145e2",
   "metadata": {},
   "outputs": [],
   "source": [
    "#Chi Value\n",
    "chi2_contingency(ct2)"
   ]
  },
  {
   "cell_type": "code",
   "execution_count": null,
   "id": "e96b6fc5",
   "metadata": {},
   "outputs": [],
   "source": [
    "#We can see that there is connection between the TradingCards and the RatioPositiveReviews\n",
    "#Because the P > 0.05"
   ]
  },
  {
   "cell_type": "code",
   "execution_count": null,
   "id": "8397163c",
   "metadata": {},
   "outputs": [],
   "source": [
    "#Check the connection between Trading Cards and RatioPositiveReviews\n",
    "ct3 = pd.crosstab(df['TradingCards'], df['Price'])\n",
    "ct3\n",
    "#Chi Value\n",
    "chi2_contingency(ct3)"
   ]
  },
  {
   "cell_type": "code",
   "execution_count": null,
   "id": "b4628763",
   "metadata": {},
   "outputs": [],
   "source": [
    "#Check the connection between Trading Cards and RatioPositiveReviews\n",
    "ct4 = pd.crosstab(df['Online'], df['RatioPositiveReviews'])\n",
    "ct4\n",
    "#Chi Value\n",
    "chi2_contingency(ct4)"
   ]
  },
  {
   "cell_type": "code",
   "execution_count": null,
   "id": "354397f6",
   "metadata": {},
   "outputs": [],
   "source": [
    "#Check for each Genre the connections between RatioPositiveReviews and online games\n",
    "fig =plt.figure(figsize=(10,10))\n",
    "ax = plt.axes()\n",
    "ax.scatter(df.Genre, df.RatioPositiveReviews)\n",
    "plt.xlabel('Genre')\n",
    "plt.ylabel('RatioPositiveReviews')\n",
    "ax.scatter(df.Genre[df.Online==1], df.RatioPositiveReviews[df.Online==1], c='orange')\n",
    "plt.show()"
   ]
  },
  {
   "cell_type": "code",
   "execution_count": null,
   "id": "e0aa6e73",
   "metadata": {},
   "outputs": [],
   "source": [
    "sns.pairplot(df[['Price', 'Online', 'TradingCards', 'RatioPositiveReviews']])"
   ]
  },
  {
   "cell_type": "code",
   "execution_count": null,
   "id": "e3c07803",
   "metadata": {},
   "outputs": [],
   "source": [
    "comparing2 = pd.DataFrame(df, columns = ['Price', 'Online', 'TradingCards', 'RatioPositiveReviews'])\n",
    "sns.heatmap(comparing2.corr(), annot = True)"
   ]
  },
  {
   "cell_type": "code",
   "execution_count": null,
   "id": "2e5e51e1",
   "metadata": {},
   "outputs": [],
   "source": [
    "df.to_csv(\"GamePopularity-Cleanup2.csv\")"
   ]
  },
  {
   "cell_type": "markdown",
   "id": "3db08b29",
   "metadata": {},
   "source": [
    "# "
   ]
  },
  {
   "cell_type": "markdown",
   "id": "633a4368",
   "metadata": {},
   "source": [
    "# GamePopularity - Machine Learning"
   ]
  },
  {
   "cell_type": "code",
   "execution_count": null,
   "id": "9b6b1983",
   "metadata": {},
   "outputs": [],
   "source": [
    "import pandas as pd\n",
    "import numpy as np\n",
    "import seaborn as sns\n",
    "from sklearn import preprocessing\n",
    "from sklearn import linear_model\n",
    "from sklearn.linear_model import LogisticRegression\n",
    "from sklearn.model_selection import train_test_split\n",
    "from sklearn.metrics import r2_score\n",
    "from scipy.special import expit\n",
    "from scipy.special import logit\n",
    "\n",
    "from sklearn.neighbors import KNeighborsClassifier\n",
    "from sklearn import metrics\n",
    "from sklearn.model_selection import train_test_split\n",
    "from sklearn.model_selection import cross_val_score\n",
    "\n",
    "from sklearn import tree\n",
    "from sklearn.ensemble import RandomForestClassifier\n",
    "import pydotplus\n",
    "from sklearn.metrics import accuracy_score\n",
    "from sklearn.metrics import classification_report\n",
    "from sklearn.tree import DecisionTreeClassifier\n",
    "\n",
    "import matplotlib.pyplot as plt\n",
    "from matplotlib.colors import ListedColormap\n",
    "%matplotlib inline"
   ]
  },
  {
   "cell_type": "code",
   "execution_count": null,
   "id": "bb58dc77",
   "metadata": {},
   "outputs": [],
   "source": [
    "#load DataFrame\n",
    "df = pd.read_csv(\"GamePopularity-Cleanup.csv\")\n",
    "df = df.drop(columns = \"Unnamed: 0\")\n",
    "df = df[df[\"Genre\"].str.contains(\"Bundle info\") == False]\n",
    "df"
   ]
  },
  {
   "cell_type": "code",
   "execution_count": null,
   "id": "e4559424",
   "metadata": {},
   "outputs": [],
   "source": [
    "#Adding Success Column with values and Coding the Genres name for numbers\n",
    "#Definition: Success Game = RatioPositiveReviews => 80% and SumofReviews => 1000\n",
    "success = []\n",
    "GenreCoding = []\n",
    "for i in range(0, len(df)):\n",
    "    sumofreviews = df.iloc[i]['PositiveReviews'] + df.iloc[i]['NegativeReviews']\n",
    "    if (sumofreviews > 999 and (df.iloc[i]['RatioPositiveReviews'] > 79.999)):\n",
    "        success.append(1)\n",
    "    else:\n",
    "        success.append(0) \n",
    "    \n",
    "    if df.iloc[i]['Genre'] == \"Action\":\n",
    "        GenreCoding.append(1)\n",
    "    elif df.iloc[i]['Genre'] == \"Adventure\":\n",
    "        GenreCoding.append(2)\n",
    "    elif df.iloc[i]['Genre'] == \"Casual\":\n",
    "        GenreCoding.append(3)\n",
    "    elif df.iloc[i]['Genre'] == \"Indie\":\n",
    "        GenreCoding.append(4)\n",
    "    elif df.iloc[i]['Genre'] == \"Simulation\":\n",
    "        GenreCoding.append(5)\n",
    "    elif df.iloc[i]['Genre'] == \"RPG\":\n",
    "        GenreCoding.append(6)\n",
    "    elif df.iloc[i]['Genre'] == \"Strategy\":\n",
    "        GenreCoding.append(7)\n",
    "    elif df.iloc[i]['Genre'] == \"Racing\":\n",
    "        GenreCoding.append(8)\n",
    "    elif df.iloc[i]['Genre'] == \"Sports\":\n",
    "        GenreCoding.append(9)"
   ]
  },
  {
   "cell_type": "markdown",
   "id": "66dd305f",
   "metadata": {},
   "source": [
    "Genre Coding:\n",
    "Action - 1,\n",
    "Adventure - 2,\n",
    "Casual - 3,\n",
    "Indie - 4,\n",
    "Simulation - 5,\n",
    "RPG - 6,\n",
    "Strategy - 7,\n",
    "Racing - 8,\n",
    "Sports - 9"
   ]
  },
  {
   "cell_type": "code",
   "execution_count": null,
   "id": "67c4dc53",
   "metadata": {},
   "outputs": [],
   "source": [
    "df['GenreCoding'] = GenreCoding\n",
    "df['SuccessGame'] = success\n",
    "df"
   ]
  },
  {
   "cell_type": "code",
   "execution_count": null,
   "id": "93878136",
   "metadata": {},
   "outputs": [],
   "source": [
    "#Sum of Success Games\n",
    "count = 0\n",
    "for game in success:\n",
    "    if game == 1:\n",
    "        count = count + 1\n",
    "print (\"The sum of success games is: \" + str(count))"
   ]
  },
  {
   "cell_type": "code",
   "execution_count": null,
   "id": "41fe235e",
   "metadata": {},
   "outputs": [],
   "source": [
    "#Success status for each Genre\n",
    "ct = pd.crosstab(df['Genre'], df['SuccessGame'])\n",
    "ct.plot(kind = 'bar', figsize=(8,8))\n",
    "plt.title('The Connection between Genre and SuccessGame')\n",
    "plt.xlabel('Genre')\n",
    "plt.ylabel('SuccessGame')"
   ]
  },
  {
   "cell_type": "code",
   "execution_count": null,
   "id": "6db92482",
   "metadata": {},
   "outputs": [],
   "source": [
    "#Taking all the numeric columns except the Target column (SuccessGame column)\n",
    "cols = list(df._get_numeric_data().columns)\n",
    "cols.remove(\"SuccessGame\")\n",
    "cols"
   ]
  },
  {
   "cell_type": "markdown",
   "id": "df651264",
   "metadata": {},
   "source": [
    "# Machine Learning Algorithms"
   ]
  },
  {
   "cell_type": "markdown",
   "id": "8f0698db",
   "metadata": {},
   "source": [
    "### Knn Algorithm"
   ]
  },
  {
   "cell_type": "code",
   "execution_count": null,
   "id": "bcbaf449",
   "metadata": {},
   "outputs": [],
   "source": [
    "# For easy plotting and interpretation,\n",
    "# we only use 2 features here that catagorize the games in the best way\n",
    "X = df[cols]\n",
    "y = df.SuccessGame\n",
    "X1 = df[\"GenreCoding\"]\n",
    "X2 = df[\"RatioPositiveReviews\"]\n",
    "\n",
    "# Create color maps\n",
    "cmap_light = ListedColormap(['#FFAAAA', '#AAFFAA', '#AAAAFF'])\n",
    "cmap_bold = ListedColormap(['#FF0000', '#00FF00', '#0000FF'])\n",
    "\n",
    "# plot data\n",
    "plt.figure(figsize=(10,8))\n",
    "plt.scatter(X1, X2, c=y,  marker=\"o\", cmap=cmap_bold, s=200)\n",
    "\n",
    "\n",
    "plt.title('Game Popularity Dataset')\n",
    "plt.xlabel('Genre Coding')\n",
    "plt.ylabel('Ratio Positive Reviews')\n",
    "plt.show()"
   ]
  },
  {
   "cell_type": "markdown",
   "id": "0f5a14e9",
   "metadata": {},
   "source": [
    "Blue Points = Success Games\n",
    ",Red Points = Unsuccess Games"
   ]
  },
  {
   "cell_type": "code",
   "execution_count": null,
   "id": "8013098d",
   "metadata": {},
   "outputs": [],
   "source": [
    "#Split into training and test sets\n",
    "XTrain, XTest, yTrain, yTest = train_test_split(X, y, random_state=1, test_size=0.2)"
   ]
  },
  {
   "cell_type": "code",
   "execution_count": null,
   "id": "69ff33ff",
   "metadata": {},
   "outputs": [],
   "source": [
    "# set up the model, k-NN classification with k = 5  \n",
    "k = 5\n",
    "clf = KNeighborsClassifier(n_neighbors=k)\n",
    "clf.fit(XTrain, yTrain)"
   ]
  },
  {
   "cell_type": "code",
   "execution_count": null,
   "id": "00dd5f71",
   "metadata": {},
   "outputs": [],
   "source": [
    "y_pred=clf.predict(XTest)\n",
    "print(metrics.confusion_matrix(y_true = yTest, y_pred = y_pred))\n",
    "print('Accuracy = ', metrics.accuracy_score(y_true = yTest, y_pred = y_pred))"
   ]
  },
  {
   "cell_type": "markdown",
   "id": "ba8d4e47",
   "metadata": {},
   "source": [
    "We can see that we got a possibility to Overfitting and we will want to upgrade our model, we will try to select the best K value with Cross Validation."
   ]
  },
  {
   "cell_type": "code",
   "execution_count": null,
   "id": "dd152f3d",
   "metadata": {},
   "outputs": [],
   "source": [
    "#Cross Validation\n",
    "clf = KNeighborsClassifier(n_neighbors=5)\n",
    "scores = cross_val_score(clf, X, y, cv=10)\n",
    "\n",
    "scores"
   ]
  },
  {
   "cell_type": "code",
   "execution_count": null,
   "id": "4cb48de8",
   "metadata": {},
   "outputs": [],
   "source": [
    "#The mean Accuracy of all the iterations\n",
    "print(\"Mean Accuracy: %f\" % scores.mean())"
   ]
  },
  {
   "cell_type": "markdown",
   "id": "4128d8d0",
   "metadata": {},
   "source": [
    "### Decision Tree Algorithm"
   ]
  },
  {
   "cell_type": "code",
   "execution_count": null,
   "id": "3536da26",
   "metadata": {},
   "outputs": [],
   "source": [
    "#The code was taken from GeeksforGeeks - https://www.geeksforgeeks.org/decision-tree-implementation-python/\n",
    "X, y = df[cols], df.SuccessGame\n",
    "X_train, X_test, y_train, y_test = train_test_split(X, y, test_size = 0.2, random_state = 100)\n",
    "clf_gini = DecisionTreeClassifier(criterion = \"gini\",random_state = 100,max_depth=3)\n",
    "clf_gini.fit(X_train, y_train)\n",
    "\n",
    "# Predicton on test with giniIndex\n",
    "y_pred = clf_gini.predict(X_test)\n",
    "print(\"Predicted values:\")\n",
    "print(y_pred)\n",
    "      \n",
    "# Calculate accuracy\n",
    "print (\"Accuracy : \",accuracy_score(y_test,y_pred)*100)"
   ]
  },
  {
   "cell_type": "code",
   "execution_count": null,
   "id": "bbf3da1a",
   "metadata": {},
   "outputs": [],
   "source": [
    "df.to_csv(\"GamePopularity-MachineLearning.csv\")"
   ]
  }
 ],
 "metadata": {
  "kernelspec": {
   "display_name": "Python 3 (ipykernel)",
   "language": "python",
   "name": "python3"
  },
  "language_info": {
   "codemirror_mode": {
    "name": "ipython",
    "version": 3
   },
   "file_extension": ".py",
   "mimetype": "text/x-python",
   "name": "python",
   "nbconvert_exporter": "python",
   "pygments_lexer": "ipython3",
   "version": "3.9.7"
  }
 },
 "nbformat": 4,
 "nbformat_minor": 5
}
